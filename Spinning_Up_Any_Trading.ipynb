{
 "cells": [
  {
   "cell_type": "code",
   "execution_count": 7,
   "id": "9be6e53a",
   "metadata": {},
   "outputs": [
    {
     "name": "stdout",
     "output_type": "stream",
     "text": [
      "Collecting spinup\n",
      "  Downloading spinup-0.1.tar.gz (2.5 kB)\n",
      "  Preparing metadata (setup.py) ... \u001b[?25ldone\n",
      "\u001b[?25hBuilding wheels for collected packages: spinup\n",
      "  Building wheel for spinup (setup.py) ... \u001b[?25ldone\n",
      "\u001b[?25h  Created wheel for spinup: filename=spinup-0.1-py3-none-any.whl size=3202 sha256=1c4e1f1b14acf40a5240bcd6b4013218889b89f7b60f6b2d36ff49d5a52aadbc\n",
      "  Stored in directory: /Users/ryankan/Library/Caches/pip/wheels/4a/d5/dd/a11d8dcdc68cca317da6332c5eddbb4e6324b2f378972158ac\n",
      "Successfully built spinup\n",
      "Installing collected packages: spinup\n",
      "Successfully installed spinup-0.1\n",
      "Note: you may need to restart the kernel to use updated packages.\n"
     ]
    }
   ],
   "source": [
    "pip install spinup"
   ]
  },
  {
   "cell_type": "code",
   "execution_count": 10,
   "id": "55b21376",
   "metadata": {},
   "outputs": [
    {
     "ename": "ImportError",
     "evalue": "cannot import name 'ppo_pytorch' from 'spinup' (/Users/ryankan/anaconda3/lib/python3.11/site-packages/spinup/__init__.py)",
     "output_type": "error",
     "traceback": [
      "\u001b[0;31m---------------------------------------------------------------------------\u001b[0m",
      "\u001b[0;31mImportError\u001b[0m                               Traceback (most recent call last)",
      "Cell \u001b[0;32mIn[10], line 11\u001b[0m\n\u001b[1;32m      9\u001b[0m \u001b[38;5;28;01mimport\u001b[39;00m \u001b[38;5;21;01mpandas\u001b[39;00m \u001b[38;5;28;01mas\u001b[39;00m \u001b[38;5;21;01mpd\u001b[39;00m\n\u001b[1;32m     10\u001b[0m \u001b[38;5;28;01mimport\u001b[39;00m \u001b[38;5;21;01mtorch\u001b[39;00m\u001b[38;5;21;01m.\u001b[39;00m\u001b[38;5;21;01moptim\u001b[39;00m \u001b[38;5;28;01mas\u001b[39;00m \u001b[38;5;21;01moptim\u001b[39;00m\n\u001b[0;32m---> 11\u001b[0m \u001b[38;5;28;01mfrom\u001b[39;00m \u001b[38;5;21;01mspinup\u001b[39;00m \u001b[38;5;28;01mimport\u001b[39;00m ppo_pytorch \u001b[38;5;28;01mas\u001b[39;00m ppo\n",
      "\u001b[0;31mImportError\u001b[0m: cannot import name 'ppo_pytorch' from 'spinup' (/Users/ryankan/anaconda3/lib/python3.11/site-packages/spinup/__init__.py)"
     ]
    }
   ],
   "source": [
    "import torch\n",
    "import torch.nn as nn\n",
    "import torch.nn.functional as F\n",
    "import numpy as np\n",
    "import gymnasium as gym\n",
    "import gym_anytrading\n",
    "from collections import deque\n",
    "import matplotlib.pyplot as plt\n",
    "import pandas as pd\n",
    "import torch.optim as optim\n",
    "from spinup import ppo_pytorch as ppo"
   ]
  },
  {
   "cell_type": "code",
   "execution_count": 5,
   "id": "acb38114",
   "metadata": {},
   "outputs": [],
   "source": [
    "env = gym.make('forex-v0', frame_bound=(10, 500), window_size=10)\n",
    "input_dim = env.observation_space.shape[1] * env.observation_space.shape[0]\n",
    "n_actions = env.action_space.n\n",
    "\n",
    "T = env.unwrapped.frame_bound[1] - env.unwrapped.frame_bound[0]"
   ]
  },
  {
   "cell_type": "code",
   "execution_count": null,
   "id": "db5fb625",
   "metadata": {},
   "outputs": [],
   "source": []
  }
 ],
 "metadata": {
  "kernelspec": {
   "display_name": "Python 3 (ipykernel)",
   "language": "python",
   "name": "python3"
  },
  "language_info": {
   "codemirror_mode": {
    "name": "ipython",
    "version": 3
   },
   "file_extension": ".py",
   "mimetype": "text/x-python",
   "name": "python",
   "nbconvert_exporter": "python",
   "pygments_lexer": "ipython3",
   "version": "3.11.3"
  }
 },
 "nbformat": 4,
 "nbformat_minor": 5
}
